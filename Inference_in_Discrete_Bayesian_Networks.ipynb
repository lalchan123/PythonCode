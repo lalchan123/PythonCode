{
  "nbformat": 4,
  "nbformat_minor": 0,
  "metadata": {
    "colab": {
      "name": "Inference in Discrete Bayesian Networks.ipynb",
      "provenance": [],
      "authorship_tag": "ABX9TyOE1hoKC16pO+Kd/wvmnMYF",
      "include_colab_link": true
    },
    "kernelspec": {
      "name": "python3",
      "display_name": "Python 3"
    }
  },
  "cells": [
    {
      "cell_type": "markdown",
      "metadata": {
        "id": "view-in-github",
        "colab_type": "text"
      },
      "source": [
        "<a href=\"https://colab.research.google.com/github/lalchan123/PythonCode/blob/master/Inference_in_Discrete_Bayesian_Networks.ipynb\" target=\"_parent\"><img src=\"https://colab.research.google.com/assets/colab-badge.svg\" alt=\"Open In Colab\"/></a>"
      ]
    },
    {
      "cell_type": "code",
      "metadata": {
        "id": "0SL26QywfHkc"
      },
      "source": [
        "# Fetch the asia model from the bnlearn repository\n",
        "\n",
        "from pgmpy.utils import get_example_model\n",
        "\n",
        "asia_model = get_example_model('asia')"
      ],
      "execution_count": 3,
      "outputs": []
    },
    {
      "cell_type": "code",
      "metadata": {
        "id": "CoPCO-zYfXKm",
        "outputId": "e784097c-04d6-48eb-8dd6-4ec5f3d83462",
        "colab": {
          "base_uri": "https://localhost:8080/",
          "height": 221
        }
      },
      "source": [
        "print(\"Nodes: \", asia_model.nodes())\n",
        "print(\"Edges: \", asia_model.edges())\n",
        "asia_model.get_cpds()"
      ],
      "execution_count": 4,
      "outputs": [
        {
          "output_type": "stream",
          "text": [
            "Nodes:  ['asia', 'tub', 'smoke', 'lung', 'bronc', 'either', 'xray', 'dysp']\n",
            "Edges:  [('asia', 'tub'), ('tub', 'either'), ('smoke', 'lung'), ('smoke', 'bronc'), ('lung', 'either'), ('bronc', 'dysp'), ('either', 'xray'), ('either', 'dysp')]\n"
          ],
          "name": "stdout"
        },
        {
          "output_type": "execute_result",
          "data": {
            "text/plain": [
              "[<TabularCPD representing P(asia:2) at 0x7f3010f19ac8>,\n",
              " <TabularCPD representing P(bronc:2 | smoke:2) at 0x7f3010f19d30>,\n",
              " <TabularCPD representing P(dysp:2 | bronc:2, either:2) at 0x7f3010f19860>,\n",
              " <TabularCPD representing P(either:2 | lung:2, tub:2) at 0x7f3010f19eb8>,\n",
              " <TabularCPD representing P(lung:2 | smoke:2) at 0x7f3010f19e80>,\n",
              " <TabularCPD representing P(smoke:2) at 0x7f3010f19a90>,\n",
              " <TabularCPD representing P(tub:2 | asia:2) at 0x7f3010f19f98>,\n",
              " <TabularCPD representing P(xray:2 | either:2) at 0x7f3010f19fd0>]"
            ]
          },
          "metadata": {
            "tags": []
          },
          "execution_count": 4
        }
      ]
    },
    {
      "cell_type": "code",
      "metadata": {
        "id": "u9X19bP1fahs"
      },
      "source": [
        "# Initializing the VariableElimination class\n",
        "\n",
        "from pgmpy.inference import VariableElimination\n",
        "asia_infer = VariableElimination(asia_model)"
      ],
      "execution_count": 5,
      "outputs": []
    },
    {
      "cell_type": "code",
      "metadata": {
        "id": "Vam-ZpW2fioQ",
        "outputId": "7be8ba46-ebf3-4118-c2b0-5a84d85cca7d",
        "colab": {
          "base_uri": "https://localhost:8080/",
          "height": 715
        }
      },
      "source": [
        "# Computing the probability of bronc given smoke=no.\n",
        "q = asia_infer.query(variables=['bronc'], evidence={'smoke': 'no'})\n",
        "print(q)\n",
        "\n",
        "# Computing the joint probability of bronc and asia given smoke=yes\n",
        "q = asia_infer.query(variables=['bronc', 'asia'], evidence={'smoke': 'yes'})\n",
        "print(q)\n",
        "\n",
        "# Computing the probabilities (not joint) of bronc and asia given smoke=no\n",
        "q = asia_infer.query(variables=['bronc', 'asia'], evidence={'smoke': 'no'}, joint=False)\n",
        "for factor in q.values():\n",
        "    print(factor)"
      ],
      "execution_count": 6,
      "outputs": [
        {
          "output_type": "stream",
          "text": [
            "Finding Elimination Order: : 100%|██████████| 6/6 [00:00<00:00, 2787.22it/s]\n",
            "Eliminating: asia: 100%|██████████| 6/6 [00:00<00:00, 270.48it/s]\n",
            "Finding Elimination Order: : 100%|██████████| 5/5 [00:00<00:00, 819.55it/s]\n",
            "Eliminating: tub: 100%|██████████| 5/5 [00:00<00:00, 283.38it/s]\n",
            "Finding Elimination Order: : 100%|██████████| 5/5 [00:00<00:00, 3176.54it/s]\n",
            "Eliminating: tub: 100%|██████████| 5/5 [00:00<00:00, 364.03it/s]"
          ],
          "name": "stderr"
        },
        {
          "output_type": "stream",
          "text": [
            "+------------+--------------+\n",
            "| bronc      |   phi(bronc) |\n",
            "+============+==============+\n",
            "| bronc(yes) |       0.3000 |\n",
            "+------------+--------------+\n",
            "| bronc(no)  |       0.7000 |\n",
            "+------------+--------------+\n",
            "+-----------+------------+-------------------+\n",
            "| asia      | bronc      |   phi(asia,bronc) |\n",
            "+===========+============+===================+\n",
            "| asia(yes) | bronc(yes) |            0.0060 |\n",
            "+-----------+------------+-------------------+\n",
            "| asia(yes) | bronc(no)  |            0.0040 |\n",
            "+-----------+------------+-------------------+\n",
            "| asia(no)  | bronc(yes) |            0.5940 |\n",
            "+-----------+------------+-------------------+\n",
            "| asia(no)  | bronc(no)  |            0.3960 |\n",
            "+-----------+------------+-------------------+\n",
            "+------------+--------------+\n",
            "| bronc      |   phi(bronc) |\n",
            "+============+==============+\n",
            "| bronc(yes) |       0.3000 |\n",
            "+------------+--------------+\n",
            "| bronc(no)  |       0.7000 |\n",
            "+------------+--------------+\n",
            "+-----------+-------------+\n",
            "| asia      |   phi(asia) |\n",
            "+===========+=============+\n",
            "| asia(yes) |      0.0100 |\n",
            "+-----------+-------------+\n",
            "| asia(no)  |      0.9900 |\n",
            "+-----------+-------------+\n"
          ],
          "name": "stdout"
        },
        {
          "output_type": "stream",
          "text": [
            "\n"
          ],
          "name": "stderr"
        }
      ]
    },
    {
      "cell_type": "code",
      "metadata": {
        "id": "LrwGQLFzfuHS",
        "outputId": "5352e516-4a94-467f-9e46-78534131593c",
        "colab": {
          "base_uri": "https://localhost:8080/",
          "height": 127
        }
      },
      "source": [
        "# Computing the MAP of bronc given smoke=no.\n",
        "q = asia_infer.map_query(variables=['bronc'], evidence={'smoke': 'no'})\n",
        "print(q)\n",
        "\n",
        "# Computing the MAP of bronc and asia given smoke=yes\n",
        "q = asia_infer.map_query(variables=['bronc', 'asia'], evidence={'smoke': 'yes'})\n",
        "print(q)"
      ],
      "execution_count": 7,
      "outputs": [
        {
          "output_type": "stream",
          "text": [
            "Finding Elimination Order: : 100%|██████████| 6/6 [00:00<00:00, 894.63it/s]\n",
            "Eliminating: asia: 100%|██████████| 6/6 [00:00<00:00, 402.28it/s]\n",
            "Finding Elimination Order: : 100%|██████████| 5/5 [00:00<00:00, 2985.27it/s]\n",
            "Eliminating: tub: 100%|██████████| 5/5 [00:00<00:00, 275.38it/s]"
          ],
          "name": "stderr"
        },
        {
          "output_type": "stream",
          "text": [
            "{'bronc': 'no'}\n",
            "{'bronc': 'yes', 'asia': 'no'}\n"
          ],
          "name": "stdout"
        },
        {
          "output_type": "stream",
          "text": [
            "\n"
          ],
          "name": "stderr"
        }
      ]
    },
    {
      "cell_type": "code",
      "metadata": {
        "id": "2yjopH07fwn9"
      },
      "source": [
        ""
      ],
      "execution_count": null,
      "outputs": []
    }
  ]
}