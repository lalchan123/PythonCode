{
  "nbformat": 4,
  "nbformat_minor": 0,
  "metadata": {
    "colab": {
      "name": "Creating a Discrete Bayesian Network.ipynb",
      "provenance": [],
      "authorship_tag": "ABX9TyPLWyNr9dDZ84iBYImhStY0",
      "include_colab_link": true
    },
    "kernelspec": {
      "name": "python3",
      "display_name": "Python 3"
    }
  },
  "cells": [
    {
      "cell_type": "markdown",
      "metadata": {
        "id": "view-in-github",
        "colab_type": "text"
      },
      "source": [
        "<a href=\"https://colab.research.google.com/github/lalchan123/PythonCode/blob/master/Creating_a_Discrete_Bayesian_Network.ipynb\" target=\"_parent\"><img src=\"https://colab.research.google.com/assets/colab-badge.svg\" alt=\"Open In Colab\"/></a>"
      ]
    },
    {
      "cell_type": "code",
      "metadata": {
        "id": "WCYchvUmgMd8"
      },
      "source": [
        ""
      ],
      "execution_count": null,
      "outputs": []
    },
    {
      "cell_type": "code",
      "metadata": {
        "id": "YO9V4fWScgvg",
        "outputId": "d5eb85eb-fd59-4e3b-9f84-df67d6fcb107",
        "colab": {
          "base_uri": "https://localhost:8080/",
          "height": 753
        }
      },
      "source": [
        "!pip install pgmpy\n",
        "!pip install interface"
      ],
      "execution_count": 1,
      "outputs": [
        {
          "output_type": "stream",
          "text": [
            "Collecting pgmpy\n",
            "\u001b[?25l  Downloading https://files.pythonhosted.org/packages/22/16/e2edff21fca7a2cacaedd293caaaae5eaea832af0dd347c1159b4455be6b/pgmpy-0.1.12-py3-none-any.whl (322kB)\n",
            "\r\u001b[K     |█                               | 10kB 8.5MB/s eta 0:00:01\r\u001b[K     |██                              | 20kB 2.1MB/s eta 0:00:01\r\u001b[K     |███                             | 30kB 2.7MB/s eta 0:00:01\r\u001b[K     |████                            | 40kB 2.9MB/s eta 0:00:01\r\u001b[K     |█████                           | 51kB 2.5MB/s eta 0:00:01\r\u001b[K     |██████                          | 61kB 2.8MB/s eta 0:00:01\r\u001b[K     |███████                         | 71kB 3.0MB/s eta 0:00:01\r\u001b[K     |████████▏                       | 81kB 3.2MB/s eta 0:00:01\r\u001b[K     |█████████▏                      | 92kB 3.5MB/s eta 0:00:01\r\u001b[K     |██████████▏                     | 102kB 3.3MB/s eta 0:00:01\r\u001b[K     |███████████▏                    | 112kB 3.3MB/s eta 0:00:01\r\u001b[K     |████████████▏                   | 122kB 3.3MB/s eta 0:00:01\r\u001b[K     |█████████████▏                  | 133kB 3.3MB/s eta 0:00:01\r\u001b[K     |██████████████▏                 | 143kB 3.3MB/s eta 0:00:01\r\u001b[K     |███████████████▏                | 153kB 3.3MB/s eta 0:00:01\r\u001b[K     |████████████████▎               | 163kB 3.3MB/s eta 0:00:01\r\u001b[K     |█████████████████▎              | 174kB 3.3MB/s eta 0:00:01\r\u001b[K     |██████████████████▎             | 184kB 3.3MB/s eta 0:00:01\r\u001b[K     |███████████████████▎            | 194kB 3.3MB/s eta 0:00:01\r\u001b[K     |████████████████████▎           | 204kB 3.3MB/s eta 0:00:01\r\u001b[K     |█████████████████████▎          | 215kB 3.3MB/s eta 0:00:01\r\u001b[K     |██████████████████████▎         | 225kB 3.3MB/s eta 0:00:01\r\u001b[K     |███████████████████████▍        | 235kB 3.3MB/s eta 0:00:01\r\u001b[K     |████████████████████████▍       | 245kB 3.3MB/s eta 0:00:01\r\u001b[K     |█████████████████████████▍      | 256kB 3.3MB/s eta 0:00:01\r\u001b[K     |██████████████████████████▍     | 266kB 3.3MB/s eta 0:00:01\r\u001b[K     |███████████████████████████▍    | 276kB 3.3MB/s eta 0:00:01\r\u001b[K     |████████████████████████████▍   | 286kB 3.3MB/s eta 0:00:01\r\u001b[K     |█████████████████████████████▍  | 296kB 3.3MB/s eta 0:00:01\r\u001b[K     |██████████████████████████████▍ | 307kB 3.3MB/s eta 0:00:01\r\u001b[K     |███████████████████████████████▌| 317kB 3.3MB/s eta 0:00:01\r\u001b[K     |████████████████████████████████| 327kB 3.3MB/s \n",
            "\u001b[?25hRequirement already satisfied: pyparsing in /usr/local/lib/python3.6/dist-packages (from pgmpy) (2.4.7)\n",
            "Requirement already satisfied: torch in /usr/local/lib/python3.6/dist-packages (from pgmpy) (1.6.0+cu101)\n",
            "Requirement already satisfied: statsmodels in /usr/local/lib/python3.6/dist-packages (from pgmpy) (0.10.2)\n",
            "Requirement already satisfied: joblib in /usr/local/lib/python3.6/dist-packages (from pgmpy) (0.16.0)\n",
            "Requirement already satisfied: networkx in /usr/local/lib/python3.6/dist-packages (from pgmpy) (2.5)\n",
            "Requirement already satisfied: tqdm in /usr/local/lib/python3.6/dist-packages (from pgmpy) (4.41.1)\n",
            "Requirement already satisfied: pandas in /usr/local/lib/python3.6/dist-packages (from pgmpy) (1.1.2)\n",
            "Requirement already satisfied: numpy in /usr/local/lib/python3.6/dist-packages (from pgmpy) (1.18.5)\n",
            "Requirement already satisfied: scipy in /usr/local/lib/python3.6/dist-packages (from pgmpy) (1.4.1)\n",
            "Requirement already satisfied: scikit-learn in /usr/local/lib/python3.6/dist-packages (from pgmpy) (0.22.2.post1)\n",
            "Requirement already satisfied: future in /usr/local/lib/python3.6/dist-packages (from torch->pgmpy) (0.16.0)\n",
            "Requirement already satisfied: patsy>=0.4.0 in /usr/local/lib/python3.6/dist-packages (from statsmodels->pgmpy) (0.5.1)\n",
            "Requirement already satisfied: decorator>=4.3.0 in /usr/local/lib/python3.6/dist-packages (from networkx->pgmpy) (4.4.2)\n",
            "Requirement already satisfied: python-dateutil>=2.7.3 in /usr/local/lib/python3.6/dist-packages (from pandas->pgmpy) (2.8.1)\n",
            "Requirement already satisfied: pytz>=2017.2 in /usr/local/lib/python3.6/dist-packages (from pandas->pgmpy) (2018.9)\n",
            "Requirement already satisfied: six in /usr/local/lib/python3.6/dist-packages (from patsy>=0.4.0->statsmodels->pgmpy) (1.15.0)\n",
            "Installing collected packages: pgmpy\n",
            "Successfully installed pgmpy-0.1.12\n",
            "Collecting interface\n",
            "  Downloading https://files.pythonhosted.org/packages/f9/80/7283dfe76ceb7eb1868cf97b8c8cb3a988f80757921341f95d5420de2a6e/Interface-2.11.1.tar.gz\n",
            "Collecting zope.interface\n",
            "\u001b[?25l  Downloading https://files.pythonhosted.org/packages/c5/89/1eb9dbb9e24f5e2c29ab1a88097b2f1333858aac3cd3cccc6c4c1c8ad867/zope.interface-5.1.2-cp36-cp36m-manylinux2010_x86_64.whl (236kB)\n",
            "\u001b[K     |████████████████████████████████| 245kB 5.1MB/s \n",
            "\u001b[?25hCollecting zope.schema\n",
            "\u001b[?25l  Downloading https://files.pythonhosted.org/packages/94/58/f224f1237d6cf27109e2b00806001636322766f49a2b2a64ba49ed11f1e5/zope.schema-6.0.0-py2.py3-none-any.whl (85kB)\n",
            "\u001b[K     |████████████████████████████████| 92kB 3.1MB/s \n",
            "\u001b[?25hRequirement already satisfied: setuptools in /usr/local/lib/python3.6/dist-packages (from zope.interface->interface) (50.3.0)\n",
            "Collecting zope.event\n",
            "  Downloading https://files.pythonhosted.org/packages/9e/85/b45408c64f3b888976f1d5b37eed8d746b8d5729a66a49ec846fda27d371/zope.event-4.5.0-py2.py3-none-any.whl\n",
            "Building wheels for collected packages: interface\n",
            "  Building wheel for interface (setup.py) ... \u001b[?25l\u001b[?25hdone\n",
            "  Created wheel for interface: filename=Interface-2.11.1-cp36-none-any.whl size=39561 sha256=cd570b3f2ae4dddbf9747ce0ad58d7642c13eb1e06d88fd976ff2b4502b84d8c\n",
            "  Stored in directory: /root/.cache/pip/wheels/67/ff/9c/32ef7f63060382c02ba8b1f8f33fed59987378e119da38835f\n",
            "Successfully built interface\n",
            "Installing collected packages: zope.interface, zope.event, zope.schema, interface\n",
            "Successfully installed interface-2.11.1 zope.event-4.5.0 zope.interface-5.1.2 zope.schema-6.0.0\n"
          ],
          "name": "stdout"
        }
      ]
    },
    {
      "cell_type": "code",
      "metadata": {
        "id": "EUOOZuyEhC3l",
        "outputId": "663da720-67b3-4d8d-f0b3-dd1167097963",
        "colab": {
          "base_uri": "https://localhost:8080/",
          "height": 34
        }
      },
      "source": [
        "from IPython.display import Image\n",
        "Image('images/cancer.png')"
      ],
      "execution_count": 2,
      "outputs": [
        {
          "output_type": "execute_result",
          "data": {
            "image/png": "images/cancer.png",
            "text/plain": [
              "<IPython.core.display.Image object>"
            ]
          },
          "metadata": {
            "tags": []
          },
          "execution_count": 2
        }
      ]
    },
    {
      "cell_type": "code",
      "metadata": {
        "id": "AznKEd-YhI6v"
      },
      "source": [
        "from pgmpy.models import BayesianModel\n",
        "\n",
        "cancer_model = BayesianModel([('Pollution', 'Cancer'),\n",
        "                              ('Smoker', 'Cancer'),\n",
        "                              ('Cancer', 'Xray'),\n",
        "                              ('Cancer', 'Dyspnoea')])"
      ],
      "execution_count": 3,
      "outputs": []
    },
    {
      "cell_type": "code",
      "metadata": {
        "id": "DvmSGGN9hQV6"
      },
      "source": [
        "from pgmpy.factors.discrete import TabularCPD\n",
        "\n",
        "cpd_poll = TabularCPD(variable='Pollution', variable_card=2,\n",
        "                      values=[[0.9], [0.1]])\n",
        "cpd_smoke = TabularCPD(variable='Smoker', variable_card=2,\n",
        "                       values=[[0.3], [0.7]])\n",
        "cpd_cancer = TabularCPD(variable='Cancer', variable_card=2,\n",
        "                        values=[[0.03, 0.05, 0.001, 0.02],\n",
        "                                [0.97, 0.95, 0.999, 0.98]],\n",
        "                        evidence=['Smoker', 'Pollution'],\n",
        "                        evidence_card=[2, 2])\n",
        "cpd_xray = TabularCPD(variable='Xray', variable_card=2,\n",
        "                      values=[[0.9, 0.2], [0.1, 0.8]],\n",
        "                      evidence=['Cancer'], evidence_card=[2])\n",
        "cpd_dysp = TabularCPD(variable='Dyspnoea', variable_card=2,\n",
        "                      values=[[0.65, 0.3], [0.35, 0.7]],\n",
        "                      evidence=['Cancer'], evidence_card=[2])"
      ],
      "execution_count": 4,
      "outputs": []
    },
    {
      "cell_type": "code",
      "metadata": {
        "id": "JAwPAqy7hbTs",
        "outputId": "8b75412a-693b-4868-85c8-395057666bd1",
        "colab": {
          "base_uri": "https://localhost:8080/",
          "height": 35
        }
      },
      "source": [
        "# Associating the parameters with the model structure.\n",
        "cancer_model.add_cpds(cpd_poll, cpd_smoke, cpd_cancer, cpd_xray, cpd_dysp)\n",
        "\n",
        "# Checking if the cpds are valid for the model.\n",
        "cancer_model.check_model()"
      ],
      "execution_count": 5,
      "outputs": [
        {
          "output_type": "execute_result",
          "data": {
            "text/plain": [
              "True"
            ]
          },
          "metadata": {
            "tags": []
          },
          "execution_count": 5
        }
      ]
    },
    {
      "cell_type": "code",
      "metadata": {
        "id": "55q33mSIhhVY",
        "outputId": "3a506d41-1583-4acb-ca43-ac6d91d8ff8c",
        "colab": {
          "base_uri": "https://localhost:8080/",
          "height": 54
        }
      },
      "source": [
        "# Check for d-separation between variables\n",
        "print(cancer_model.is_active_trail('Pollution', 'Smoker'))\n",
        "print(cancer_model.is_active_trail('Pollution', 'Smoker', observed=['Cancer']))"
      ],
      "execution_count": 6,
      "outputs": [
        {
          "output_type": "stream",
          "text": [
            "False\n",
            "True\n"
          ],
          "name": "stdout"
        }
      ]
    },
    {
      "cell_type": "code",
      "metadata": {
        "id": "Itmdobqihj0l",
        "outputId": "9d08ab64-f188-472e-bfd4-e23e5715640f",
        "colab": {
          "base_uri": "https://localhost:8080/",
          "height": 35
        }
      },
      "source": [
        "# Get all d-connected nodes\n",
        "\n",
        "cancer_model.active_trail_nodes('Pollution')"
      ],
      "execution_count": 7,
      "outputs": [
        {
          "output_type": "execute_result",
          "data": {
            "text/plain": [
              "{'Pollution': {'Cancer', 'Dyspnoea', 'Pollution', 'Xray'}}"
            ]
          },
          "metadata": {
            "tags": []
          },
          "execution_count": 7
        }
      ]
    },
    {
      "cell_type": "code",
      "metadata": {
        "id": "Z0dogiPZhqUP",
        "outputId": "dda76ecb-7ff7-4b1d-d006-022aed2d7c60",
        "colab": {
          "base_uri": "https://localhost:8080/",
          "height": 35
        }
      },
      "source": [
        "# List local independencies for a node\n",
        "\n",
        "cancer_model.local_independencies('Xray')"
      ],
      "execution_count": 8,
      "outputs": [
        {
          "output_type": "execute_result",
          "data": {
            "text/plain": [
              "(Xray _|_ Pollution, Smoker, Dyspnoea | Cancer)"
            ]
          },
          "metadata": {
            "tags": []
          },
          "execution_count": 8
        }
      ]
    },
    {
      "cell_type": "code",
      "metadata": {
        "id": "9XQQiP2uh2bx",
        "outputId": "4b56a38f-c785-44d6-a439-3e482ef5bb62",
        "colab": {
          "base_uri": "https://localhost:8080/",
          "height": 531
        }
      },
      "source": [
        "# Get all model implied independence conditions\n",
        "\n",
        "cancer_model.get_independencies()"
      ],
      "execution_count": 9,
      "outputs": [
        {
          "output_type": "execute_result",
          "data": {
            "text/plain": [
              "(Pollution _|_ Smoker)\n",
              "(Pollution _|_ Xray, Dyspnoea | Cancer)\n",
              "(Pollution _|_ Xray, Dyspnoea | Cancer, Smoker)\n",
              "(Pollution _|_ Dyspnoea | Cancer, Xray)\n",
              "(Pollution _|_ Xray | Cancer, Dyspnoea)\n",
              "(Pollution _|_ Dyspnoea | Cancer, Smoker, Xray)\n",
              "(Pollution _|_ Xray | Cancer, Smoker, Dyspnoea)\n",
              "(Smoker _|_ Pollution)\n",
              "(Smoker _|_ Dyspnoea, Xray | Cancer)\n",
              "(Smoker _|_ Dyspnoea, Xray | Pollution, Cancer)\n",
              "(Smoker _|_ Xray | Cancer, Dyspnoea)\n",
              "(Smoker _|_ Dyspnoea | Cancer, Xray)\n",
              "(Smoker _|_ Xray | Pollution, Dyspnoea, Cancer)\n",
              "(Smoker _|_ Dyspnoea | Pollution, Xray, Cancer)\n",
              "(Xray _|_ Pollution, Smoker, Dyspnoea | Cancer)\n",
              "(Xray _|_ Smoker, Dyspnoea | Pollution, Cancer)\n",
              "(Xray _|_ Pollution, Dyspnoea | Cancer, Smoker)\n",
              "(Xray _|_ Pollution, Smoker | Cancer, Dyspnoea)\n",
              "(Xray _|_ Dyspnoea | Pollution, Smoker, Cancer)\n",
              "(Xray _|_ Smoker | Pollution, Dyspnoea, Cancer)\n",
              "(Xray _|_ Pollution | Cancer, Smoker, Dyspnoea)\n",
              "(Dyspnoea _|_ Pollution, Smoker, Xray | Cancer)\n",
              "(Dyspnoea _|_ Smoker, Xray | Pollution, Cancer)\n",
              "(Dyspnoea _|_ Pollution, Xray | Cancer, Smoker)\n",
              "(Dyspnoea _|_ Pollution, Smoker | Cancer, Xray)\n",
              "(Dyspnoea _|_ Xray | Pollution, Smoker, Cancer)\n",
              "(Dyspnoea _|_ Smoker | Pollution, Xray, Cancer)\n",
              "(Dyspnoea _|_ Pollution | Cancer, Smoker, Xray)"
            ]
          },
          "metadata": {
            "tags": []
          },
          "execution_count": 9
        }
      ]
    },
    {
      "cell_type": "code",
      "metadata": {
        "id": "NEEoO7AQiBqd",
        "outputId": "7e54191a-ba2c-4f2f-f68a-bf7d8af62211",
        "colab": {
          "base_uri": "https://localhost:8080/",
          "height": 146
        }
      },
      "source": [
        "from pgmpy.utils import get_example_model\n",
        "\n",
        "model = get_example_model('cancer')\n",
        "print(\"Nodes in the model:\", model.nodes())\n",
        "print(\"Edges in the model:\", model.edges())\n",
        "model.get_cpds()"
      ],
      "execution_count": 10,
      "outputs": [
        {
          "output_type": "stream",
          "text": [
            "Nodes in the model: ['Pollution', 'Smoker', 'Cancer', 'Xray', 'Dyspnoea']\n",
            "Edges in the model: [('Pollution', 'Cancer'), ('Smoker', 'Cancer'), ('Cancer', 'Xray'), ('Cancer', 'Dyspnoea')]\n"
          ],
          "name": "stdout"
        },
        {
          "output_type": "execute_result",
          "data": {
            "text/plain": [
              "[<TabularCPD representing P(Cancer:2 | Pollution:2, Smoker:2) at 0x7f578632add8>,\n",
              " <TabularCPD representing P(Dyspnoea:2 | Cancer:2) at 0x7f578632ad68>,\n",
              " <TabularCPD representing P(Pollution:2) at 0x7f578632ada0>,\n",
              " <TabularCPD representing P(Smoker:2) at 0x7f578632aba8>,\n",
              " <TabularCPD representing P(Xray:2 | Cancer:2) at 0x7f578632abe0>]"
            ]
          },
          "metadata": {
            "tags": []
          },
          "execution_count": 10
        }
      ]
    }
  ]
}