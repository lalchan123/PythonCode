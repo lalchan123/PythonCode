{
  "nbformat": 4,
  "nbformat_minor": 0,
  "metadata": {
    "colab": {
      "name": "Lab Assignment 1.ipynb",
      "provenance": [],
      "authorship_tag": "ABX9TyMUaGCg3sguKPaaqeQq99+u",
      "include_colab_link": true
    },
    "kernelspec": {
      "name": "python3",
      "display_name": "Python 3"
    }
  },
  "cells": [
    {
      "cell_type": "markdown",
      "metadata": {
        "id": "view-in-github",
        "colab_type": "text"
      },
      "source": [
        "<a href=\"https://colab.research.google.com/github/lalchan123/PythonCode/blob/master/Lab_Assignment_1.ipynb\" target=\"_parent\"><img src=\"https://colab.research.google.com/assets/colab-badge.svg\" alt=\"Open In Colab\"/></a>"
      ]
    },
    {
      "cell_type": "code",
      "metadata": {
        "id": "OffksmnKbMj8",
        "colab_type": "code",
        "colab": {
          "base_uri": "https://localhost:8080/",
          "height": 35
        },
        "outputId": "132c9218-6222-4fd2-a85f-69af4f571aaf"
      },
      "source": [
        "#1. Write a code for finding optimize way of shopping for an order from 3 shops.\n",
        "shop1={'orange':[10,15],'apple':[15,25]}\n",
        "shop2={'orange':[9,20],'apple':[16,25],'guava':[10,30]}\n",
        "shop3={'orange':[20,16],'apple':[20,25],'guava':[8,20]}\n",
        "money= 200\n",
        "\n",
        "buy1 = (shop2.get('orange')[0])*(shop2.get('orange')[1]-20+3)\n",
        "buy2 = (shop1.get('apple')[0])*(shop2.get('apple')[1]-25+5)\n",
        "buy3 = (shop3.get('guava')[0])*(shop3.get('guava')[1]-20+2)\n",
        "\n",
        "return_Money = (money-(buy1+buy2+buy3))\n",
        "return_Money"
      ],
      "execution_count": null,
      "outputs": [
        {
          "output_type": "execute_result",
          "data": {
            "text/plain": [
              "82"
            ]
          },
          "metadata": {
            "tags": []
          },
          "execution_count": 1
        }
      ]
    },
    {
      "cell_type": "code",
      "metadata": {
        "id": "wNC44veMcJ8v",
        "colab_type": "code",
        "colab": {
          "base_uri": "https://localhost:8080/",
          "height": 219
        },
        "outputId": "2830e3c0-bbdb-4032-b45e-6a3a590c0cbb"
      },
      "source": [
        "#2. Write Add, subtract, multiply functions in ComplexNumber Class\n",
        "class Complex ():\n",
        "    def initComplex(self):\n",
        "        self.realPart = int(input(\"Enter the Real Part: \"))\n",
        "        self.imgPart = int(input(\"Enter the Imaginary Part: \"))            \n",
        "    def display(self):\n",
        "        print(self.realPart,\"+\",self.imgPart,\"i\", sep=\"\")     \n",
        "    def sum(self, c1, c2):\n",
        "        self.realPart = c1.realPart + c2.realPart\n",
        "        self.imgPart = c1.imgPart + c2.imgPart\n",
        "    \n",
        "    def sub(self, c1, c2):\n",
        "        self.realPart = c1.realPart - c2.realPart\n",
        "        self.imgPart = c1.imgPart - c2.imgPart\n",
        "    \n",
        "    def mul(self, c1, c2):\n",
        "        self.realPart = c1.realPart * c2.realPart - c1.imgPart * c2.imgPart\n",
        "        self.imgPart = c1.imgPart * c2.realPart + c1.realPart * c2.imgPart\n",
        "\n",
        "\n",
        "c1 = Complex()\n",
        "c2 = Complex()\n",
        "c3 = Complex()\n",
        "print(\"Enter first complex number\")\n",
        "c1.initComplex()\n",
        "print(\"Enter second complex number\")\n",
        "c2.initComplex()\n",
        "print(\"First Complex Number: \", end=\"\")\n",
        "c1.display()\n",
        "print(\"Second Complex Number: \", end=\"\")\n",
        "c2.display()\n",
        "print(\"Sum of two complex numbers is: \", end=\"\")\n",
        "c3.sum(c1,c2)\n",
        "c3.display()\n",
        "\n",
        "print(\"Subtract of two complex numbers is: \", end=\"\")\n",
        "c3.sub(c1,c2)\n",
        "c3.display()\n",
        "\n",
        "print(\"Multiplication of two complex numbers is: \", end=\"\")\n",
        "c3.mul(c1,c2)\n",
        "c3.display()"
      ],
      "execution_count": null,
      "outputs": [
        {
          "output_type": "stream",
          "text": [
            "Enter first complex number\n",
            "Enter the Real Part: 3\n",
            "Enter the Imaginary Part: 4\n",
            "Enter second complex number\n",
            "Enter the Real Part: 4\n",
            "Enter the Imaginary Part: 2\n",
            "First Complex Number: 3+4i\n",
            "Second Complex Number: 4+2i\n",
            "Sum of two complex numbers is: 7+6i\n",
            "Subtract of two complex numbers is: -1+2i\n",
            "Multiplication of two complex numbers is: 4+22i\n"
          ],
          "name": "stdout"
        }
      ]
    },
    {
      "cell_type": "code",
      "metadata": {
        "id": "M5e1V7A0dI99",
        "colab_type": "code",
        "colab": {
          "base_uri": "https://localhost:8080/",
          "height": 109
        },
        "outputId": "d8622caf-5630-46ab-c1be-925bc29ab006"
      },
      "source": [
        "#3. Write Rectangle class and inherit Polygon class, also write necessity functions in Rectangle class\n",
        "class Polygon:\n",
        "    def __init__(self, no_of_sides):\n",
        "        self.n = no_of_sides\n",
        "        self.sides = [0 for i in range(no_of_sides)]\n",
        "\n",
        "    def inputSides(self):\n",
        "        self.sides = [float(input(\"Enter side \"+str(i+1)+\" : \")) for i in range(self.n)]\n",
        "\n",
        "    def dispSides(self):\n",
        "        for i in range(self.n):\n",
        "            print(\"Side\",i+1,\"is\",self.sides[i])\n",
        "\n",
        "class Rectangle(Polygon):\n",
        "    def __init__(self):\n",
        "        Polygon.__init__(self,2)\n",
        "\n",
        "    def findArea(self):\n",
        "        length,width = self.sides\n",
        "        # calculate the semi-perimeter\n",
        "        area = length * width;\n",
        "        print('The area of the Rectangle is %0.2f' %area)                    \n",
        "\n",
        "r = Rectangle()\n",
        "r.inputSides()\n",
        "r.dispSides()\n",
        "r.findArea()"
      ],
      "execution_count": null,
      "outputs": [
        {
          "output_type": "stream",
          "text": [
            "Enter side 1 : 6\n",
            "Enter side 2 : 5\n",
            "Side 1 is 6.0\n",
            "Side 2 is 5.0\n",
            "The area of the Rectangle is 30.00\n"
          ],
          "name": "stdout"
        }
      ]
    }
  ]
}