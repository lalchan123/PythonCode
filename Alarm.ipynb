{
  "nbformat": 4,
  "nbformat_minor": 0,
  "metadata": {
    "colab": {
      "name": "Alarm.ipynb",
      "provenance": [],
      "authorship_tag": "ABX9TyNWiGLxh1ISklIq1nDnFqnC",
      "include_colab_link": true
    },
    "kernelspec": {
      "name": "python3",
      "display_name": "Python 3"
    }
  },
  "cells": [
    {
      "cell_type": "markdown",
      "metadata": {
        "id": "view-in-github",
        "colab_type": "text"
      },
      "source": [
        "<a href=\"https://colab.research.google.com/github/lalchan123/PythonCode/blob/master/Alarm.ipynb\" target=\"_parent\"><img src=\"https://colab.research.google.com/assets/colab-badge.svg\" alt=\"Open In Colab\"/></a>"
      ]
    },
    {
      "cell_type": "code",
      "metadata": {
        "id": "YO9V4fWScgvg",
        "outputId": "fff7c942-630e-48ec-cdb1-dd29f26b898f",
        "colab": {
          "base_uri": "https://localhost:8080/",
          "height": 421
        }
      },
      "source": [
        "!pip install pgmpy\n",
        "!pip install interface"
      ],
      "execution_count": 10,
      "outputs": [
        {
          "output_type": "stream",
          "text": [
            "Requirement already satisfied: pgmpy in /usr/local/lib/python3.6/dist-packages (0.1.12)\n",
            "Requirement already satisfied: tqdm in /usr/local/lib/python3.6/dist-packages (from pgmpy) (4.41.1)\n",
            "Requirement already satisfied: scipy in /usr/local/lib/python3.6/dist-packages (from pgmpy) (1.4.1)\n",
            "Requirement already satisfied: pandas in /usr/local/lib/python3.6/dist-packages (from pgmpy) (1.1.2)\n",
            "Requirement already satisfied: torch in /usr/local/lib/python3.6/dist-packages (from pgmpy) (1.6.0+cu101)\n",
            "Requirement already satisfied: networkx in /usr/local/lib/python3.6/dist-packages (from pgmpy) (2.5)\n",
            "Requirement already satisfied: statsmodels in /usr/local/lib/python3.6/dist-packages (from pgmpy) (0.10.2)\n",
            "Requirement already satisfied: joblib in /usr/local/lib/python3.6/dist-packages (from pgmpy) (0.16.0)\n",
            "Requirement already satisfied: numpy in /usr/local/lib/python3.6/dist-packages (from pgmpy) (1.18.5)\n",
            "Requirement already satisfied: pyparsing in /usr/local/lib/python3.6/dist-packages (from pgmpy) (2.4.7)\n",
            "Requirement already satisfied: scikit-learn in /usr/local/lib/python3.6/dist-packages (from pgmpy) (0.22.2.post1)\n",
            "Requirement already satisfied: pytz>=2017.2 in /usr/local/lib/python3.6/dist-packages (from pandas->pgmpy) (2018.9)\n",
            "Requirement already satisfied: python-dateutil>=2.7.3 in /usr/local/lib/python3.6/dist-packages (from pandas->pgmpy) (2.8.1)\n",
            "Requirement already satisfied: future in /usr/local/lib/python3.6/dist-packages (from torch->pgmpy) (0.16.0)\n",
            "Requirement already satisfied: decorator>=4.3.0 in /usr/local/lib/python3.6/dist-packages (from networkx->pgmpy) (4.4.2)\n",
            "Requirement already satisfied: patsy>=0.4.0 in /usr/local/lib/python3.6/dist-packages (from statsmodels->pgmpy) (0.5.1)\n",
            "Requirement already satisfied: six>=1.5 in /usr/local/lib/python3.6/dist-packages (from python-dateutil>=2.7.3->pandas->pgmpy) (1.15.0)\n",
            "Requirement already satisfied: interface in /usr/local/lib/python3.6/dist-packages (2.11.1)\n",
            "Requirement already satisfied: zope.schema in /usr/local/lib/python3.6/dist-packages (from interface) (6.0.0)\n",
            "Requirement already satisfied: zope.interface in /usr/local/lib/python3.6/dist-packages (from interface) (5.1.2)\n",
            "Requirement already satisfied: zope.event in /usr/local/lib/python3.6/dist-packages (from zope.schema->interface) (4.5.0)\n",
            "Requirement already satisfied: setuptools in /usr/local/lib/python3.6/dist-packages (from zope.schema->interface) (50.3.0)\n"
          ],
          "name": "stdout"
        }
      ]
    },
    {
      "cell_type": "code",
      "metadata": {
        "id": "bLSigsUEcFJ3"
      },
      "source": [
        "#Defining network structure\n",
        "from pgmpy.models import BayesianModel\n",
        "alarm_model = BayesianModel([('Burglary', 'Alarm'), \n",
        "                              ('Earthquake', 'Alarm'),\n",
        "                              ('Alarm', 'JohnCalls'),\n",
        "                              ('Alarm', 'MaryCalls')])\n",
        "\n",
        "#Defining the parameters using CPT\n",
        "from pgmpy.factors.discrete import TabularCPD\n",
        "\n",
        "cpd_burglary = TabularCPD(variable='Burglary', variable_card=2,\n",
        "                      values=[[.999], [0.001]])\n",
        "cpd_earthquake = TabularCPD(variable='Earthquake', variable_card=2,\n",
        "                       values=[[0.998], [0.002]])\n",
        "cpd_alarm = TabularCPD(variable='Alarm', variable_card=2,\n",
        "                        values=[[0.999, 0.71, 0.06, 0.05],\n",
        "                                [0.001, 0.29, 0.94, 0.95]],\n",
        "                        evidence=['Burglary', 'Earthquake'],\n",
        "                        evidence_card=[2, 2])\n",
        "cpd_johncalls = TabularCPD(variable='JohnCalls', variable_card=2,\n",
        "                      values=[[0.95, 0.1], [0.05, 0.9]],\n",
        "                      evidence=['Alarm'], evidence_card=[2])\n",
        "cpd_marycalls = TabularCPD(variable='MaryCalls', variable_card=2,\n",
        "                      values=[[0.1, 0.7], [0.9, 0.3]],\n",
        "                      evidence=['Alarm'], evidence_card=[2])\n",
        "\n",
        "# Associating the parameters with the model structure\n",
        "alarm_model.add_cpds(cpd_burglary, cpd_earthquake, cpd_alarm, cpd_johncalls, cpd_marycalls)\n"
      ],
      "execution_count": 13,
      "outputs": []
    },
    {
      "cell_type": "code",
      "metadata": {
        "id": "bvslG66zOm2r",
        "outputId": "84d40edb-63f3-4666-c378-d0829bfac64a",
        "colab": {
          "base_uri": "https://localhost:8080/",
          "height": 35
        }
      },
      "source": [
        "# Checking if the cpds are valid for the model\n",
        "alarm_model.check_model()"
      ],
      "execution_count": 14,
      "outputs": [
        {
          "output_type": "execute_result",
          "data": {
            "text/plain": [
              "True"
            ]
          },
          "metadata": {
            "tags": []
          },
          "execution_count": 14
        }
      ]
    },
    {
      "cell_type": "code",
      "metadata": {
        "id": "mNUHcUbsV8mE",
        "outputId": "334fce2c-5342-45a3-c94e-f65df0af793e",
        "colab": {
          "base_uri": "https://localhost:8080/",
          "height": 35
        }
      },
      "source": [
        "# Viewing nodes of the model\n",
        "alarm_model.nodes()"
      ],
      "execution_count": 15,
      "outputs": [
        {
          "output_type": "execute_result",
          "data": {
            "text/plain": [
              "NodeView(('Burglary', 'Alarm', 'Earthquake', 'JohnCalls', 'MaryCalls'))"
            ]
          },
          "metadata": {
            "tags": []
          },
          "execution_count": 15
        }
      ]
    },
    {
      "cell_type": "code",
      "metadata": {
        "id": "HHNs4jFJdqs9",
        "outputId": "61ae2c9f-ffe2-4ab7-d337-6a7dda6ac53a",
        "colab": {
          "base_uri": "https://localhost:8080/",
          "height": 35
        }
      },
      "source": [
        "# Viewing edges of the model\n",
        "alarm_model.edges()"
      ],
      "execution_count": 16,
      "outputs": [
        {
          "output_type": "execute_result",
          "data": {
            "text/plain": [
              "OutEdgeView([('Burglary', 'Alarm'), ('Alarm', 'JohnCalls'), ('Alarm', 'MaryCalls'), ('Earthquake', 'Alarm')])"
            ]
          },
          "metadata": {
            "tags": []
          },
          "execution_count": 16
        }
      ]
    },
    {
      "cell_type": "code",
      "metadata": {
        "id": "XMPdlmNOdz84",
        "outputId": "40109ab6-eeec-44f6-f476-d986b79afac7",
        "colab": {
          "base_uri": "https://localhost:8080/",
          "height": 35
        }
      },
      "source": [
        "#Checking independcies of a node\n",
        "alarm_model.local_independencies('Burglary')"
      ],
      "execution_count": 17,
      "outputs": [
        {
          "output_type": "execute_result",
          "data": {
            "text/plain": [
              "(Burglary _|_ Earthquake)"
            ]
          },
          "metadata": {
            "tags": []
          },
          "execution_count": 17
        }
      ]
    },
    {
      "cell_type": "code",
      "metadata": {
        "id": "utdpAolDd6Nq",
        "outputId": "a597c8d7-efcb-4aba-cc38-a282373cc99a",
        "colab": {
          "base_uri": "https://localhost:8080/",
          "height": 531
        }
      },
      "source": [
        "#Listing all Independencies\n",
        "alarm_model.get_independencies()"
      ],
      "execution_count": 18,
      "outputs": [
        {
          "output_type": "execute_result",
          "data": {
            "text/plain": [
              "(Burglary _|_ Earthquake)\n",
              "(Burglary _|_ MaryCalls, JohnCalls | Alarm)\n",
              "(Burglary _|_ JohnCalls | MaryCalls, Alarm)\n",
              "(Burglary _|_ MaryCalls, JohnCalls | Earthquake, Alarm)\n",
              "(Burglary _|_ MaryCalls | Alarm, JohnCalls)\n",
              "(Burglary _|_ JohnCalls | MaryCalls, Earthquake, Alarm)\n",
              "(Burglary _|_ MaryCalls | Earthquake, Alarm, JohnCalls)\n",
              "(Earthquake _|_ Burglary)\n",
              "(Earthquake _|_ MaryCalls, JohnCalls | Alarm)\n",
              "(Earthquake _|_ JohnCalls | MaryCalls, Alarm)\n",
              "(Earthquake _|_ MaryCalls, JohnCalls | Alarm, Burglary)\n",
              "(Earthquake _|_ MaryCalls | Alarm, JohnCalls)\n",
              "(Earthquake _|_ JohnCalls | MaryCalls, Alarm, Burglary)\n",
              "(Earthquake _|_ MaryCalls | Alarm, Burglary, JohnCalls)\n",
              "(JohnCalls _|_ MaryCalls, Earthquake, Burglary | Alarm)\n",
              "(JohnCalls _|_ Earthquake, Burglary | MaryCalls, Alarm)\n",
              "(JohnCalls _|_ MaryCalls, Burglary | Earthquake, Alarm)\n",
              "(JohnCalls _|_ MaryCalls, Earthquake | Alarm, Burglary)\n",
              "(JohnCalls _|_ Burglary | MaryCalls, Earthquake, Alarm)\n",
              "(JohnCalls _|_ Earthquake | MaryCalls, Alarm, Burglary)\n",
              "(JohnCalls _|_ MaryCalls | Earthquake, Alarm, Burglary)\n",
              "(MaryCalls _|_ Earthquake, Burglary, JohnCalls | Alarm)\n",
              "(MaryCalls _|_ Burglary, JohnCalls | Earthquake, Alarm)\n",
              "(MaryCalls _|_ Earthquake, JohnCalls | Alarm, Burglary)\n",
              "(MaryCalls _|_ Earthquake, Burglary | Alarm, JohnCalls)\n",
              "(MaryCalls _|_ JohnCalls | Earthquake, Alarm, Burglary)\n",
              "(MaryCalls _|_ Burglary | Earthquake, Alarm, JohnCalls)\n",
              "(MaryCalls _|_ Earthquake | Alarm, Burglary, JohnCalls)"
            ]
          },
          "metadata": {
            "tags": []
          },
          "execution_count": 18
        }
      ]
    },
    {
      "cell_type": "code",
      "metadata": {
        "id": "KNutYfm5d8eh"
      },
      "source": [
        ""
      ],
      "execution_count": null,
      "outputs": []
    }
  ]
}