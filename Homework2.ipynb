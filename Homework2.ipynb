{
  "nbformat": 4,
  "nbformat_minor": 0,
  "metadata": {
    "colab": {
      "name": "Homework2.ipynb",
      "provenance": [],
      "authorship_tag": "ABX9TyNaelfkukcJoUSYPVQm10gS",
      "include_colab_link": true
    },
    "kernelspec": {
      "name": "python3",
      "display_name": "Python 3"
    }
  },
  "cells": [
    {
      "cell_type": "markdown",
      "metadata": {
        "id": "view-in-github",
        "colab_type": "text"
      },
      "source": [
        "<a href=\"https://colab.research.google.com/github/lalchan123/PythonCode/blob/master/Homework2.ipynb\" target=\"_parent\"><img src=\"https://colab.research.google.com/assets/colab-badge.svg\" alt=\"Open In Colab\"/></a>"
      ]
    },
    {
      "cell_type": "code",
      "metadata": {
        "id": "CJLdxdr3VSGO",
        "outputId": "6746204e-4fd7-4935-c291-8df9bad0f73f",
        "colab": {
          "base_uri": "https://localhost:8080/"
        }
      },
      "source": [
        "\n",
        "!pip install pgmpy\n",
        "\n"
      ],
      "execution_count": 23,
      "outputs": [
        {
          "output_type": "stream",
          "text": [
            "Requirement already satisfied: pgmpy in /usr/local/lib/python3.6/dist-packages (0.1.12)\n",
            "Requirement already satisfied: numpy in /usr/local/lib/python3.6/dist-packages (from pgmpy) (1.18.5)\n",
            "Requirement already satisfied: torch in /usr/local/lib/python3.6/dist-packages (from pgmpy) (1.7.0+cu101)\n",
            "Requirement already satisfied: joblib in /usr/local/lib/python3.6/dist-packages (from pgmpy) (0.17.0)\n",
            "Requirement already satisfied: scikit-learn in /usr/local/lib/python3.6/dist-packages (from pgmpy) (0.22.2.post1)\n",
            "Requirement already satisfied: pyparsing in /usr/local/lib/python3.6/dist-packages (from pgmpy) (2.4.7)\n",
            "Requirement already satisfied: networkx in /usr/local/lib/python3.6/dist-packages (from pgmpy) (2.5)\n",
            "Requirement already satisfied: scipy in /usr/local/lib/python3.6/dist-packages (from pgmpy) (1.4.1)\n",
            "Requirement already satisfied: tqdm in /usr/local/lib/python3.6/dist-packages (from pgmpy) (4.41.1)\n",
            "Requirement already satisfied: statsmodels in /usr/local/lib/python3.6/dist-packages (from pgmpy) (0.10.2)\n",
            "Requirement already satisfied: pandas in /usr/local/lib/python3.6/dist-packages (from pgmpy) (1.1.4)\n",
            "Requirement already satisfied: dataclasses in /usr/local/lib/python3.6/dist-packages (from torch->pgmpy) (0.7)\n",
            "Requirement already satisfied: typing-extensions in /usr/local/lib/python3.6/dist-packages (from torch->pgmpy) (3.7.4.3)\n",
            "Requirement already satisfied: future in /usr/local/lib/python3.6/dist-packages (from torch->pgmpy) (0.16.0)\n",
            "Requirement already satisfied: decorator>=4.3.0 in /usr/local/lib/python3.6/dist-packages (from networkx->pgmpy) (4.4.2)\n",
            "Requirement already satisfied: patsy>=0.4.0 in /usr/local/lib/python3.6/dist-packages (from statsmodels->pgmpy) (0.5.1)\n",
            "Requirement already satisfied: pytz>=2017.2 in /usr/local/lib/python3.6/dist-packages (from pandas->pgmpy) (2018.9)\n",
            "Requirement already satisfied: python-dateutil>=2.7.3 in /usr/local/lib/python3.6/dist-packages (from pandas->pgmpy) (2.8.1)\n",
            "Requirement already satisfied: six in /usr/local/lib/python3.6/dist-packages (from patsy>=0.4.0->statsmodels->pgmpy) (1.15.0)\n"
          ],
          "name": "stdout"
        }
      ]
    },
    {
      "cell_type": "code",
      "metadata": {
        "id": "UWVh31Lxhjfx"
      },
      "source": [
        "#from pgmpy.factors import TabularCPD\n",
        "from pgmpy.factors.discrete import TabularCPD\n",
        "grade_cpd = TabularCPD(\n",
        "                      variable='G',\n",
        "                      variable_card=3,\n",
        "                      values=[[0.3, 0.05, 0.9, 0.5],\n",
        "                      [0.4, 0.25, 0.08, 0.3],\n",
        "                      [0.3, 0.7, 0.02, 0.2]],\n",
        "                      evidence=['I', 'D'],\n",
        "                      evidence_card=[2, 2])"
      ],
      "execution_count": 56,
      "outputs": []
    },
    {
      "cell_type": "code",
      "metadata": {
        "id": "X3Bu95PLh4pt"
      },
      "source": [
        "from pgmpy.models import BayesianModel\n",
        "from pgmpy.factors.discrete import TabularCPD\n",
        "student_model = BayesianModel(\n",
        "                              [('D', 'G'),\n",
        "                              ('I', 'G'),\n",
        "                              ('G', 'L'),\n",
        "                              ('I', 'S')])\n",
        "difficulty_cpd = TabularCPD(variable='D',\n",
        "                            variable_card=2,\n",
        "                            values=[[0.6], [0.4]])\n",
        "intel_cpd = TabularCPD(\n",
        "                        variable='I',\n",
        "                        variable_card=2,\n",
        "                        values=[[0.7], [0.3]])\n",
        "grade_cpd = TabularCPD(\n",
        "                        variable='G',\n",
        "                        variable_card=3,\n",
        "                        values=[[0.3, 0.05, 0.9, 0.5],\n",
        "                        [0.4, 0.25, 0.08, 0.3],\n",
        "                        [0.3, 0.7, 0.02, 0.2]],\n",
        "                        evidence=['I', 'D'],\n",
        "                        evidence_card=[2, 2])\n",
        "\n",
        "letter_cpd = TabularCPD(\n",
        "                        variable='L',\n",
        "                        variable_card=2,\n",
        "                        values=[[0.1, 0.4, 0.99],\n",
        "                        [0.9, 0.6, 0.01]],\n",
        "                        evidence=['G'],\n",
        "                        evidence_card=[3])\n",
        "sat_cpd = TabularCPD(\n",
        "                        variable='S',\n",
        "                        variable_card=2,\n",
        "                        values=[[0.95, 0.2],\n",
        "                        [0.05, 0.8]],\n",
        "                        evidence=['I'],\n",
        "                        evidence_card=[2])\n",
        "student_model.add_cpds(grade_cpd, difficulty_cpd,intel_cpd,letter_cpd,sat_cpd)"
      ],
      "execution_count": 83,
      "outputs": []
    },
    {
      "cell_type": "code",
      "metadata": {
        "id": "6tSbCDi-vSty",
        "outputId": "10ac7e25-2f37-402d-c587-9c62356c4991",
        "colab": {
          "base_uri": "https://localhost:8080/",
          "height": 129
        }
      },
      "source": [
        "from pgmpy.inference import VariableElimination\n",
        "student_infer = VariableElimination(student_model)\n",
        "prob_G = student_infer.query(variables='G')\n",
        "print(prob_G['G'])\n",
        "G phi(G)\n",
        "G_0 0.4470\n",
        "G_1 0.2714\n",
        "G_2 0.2816\n",
        "prob_G = student_infer.query(\n",
        "variables='G',\n",
        "evidence=[('I', 1), ('D', 0)])\n",
        "print(prob_G['G'])\n",
        "G phi(G)\n",
        "G_0 0.0500\n",
        "G_1 0.2500\n",
        "G_2 0.7000\n",
        "student_infer.map_query(variables='G')\n",
        "{'G': 0}\n",
        "student_infer.map_query(\n",
        "variables='G',\n",
        "evidence=[('I', 1), ('D', 0)])\n",
        "{'G': 2}\n",
        "\n"
      ],
      "execution_count": 88,
      "outputs": [
        {
          "output_type": "error",
          "ename": "SyntaxError",
          "evalue": "ignored",
          "traceback": [
            "\u001b[0;36m  File \u001b[0;32m\"<ipython-input-88-7950f3544816>\"\u001b[0;36m, line \u001b[0;32m6\u001b[0m\n\u001b[0;31m    G_0 0.4470\u001b[0m\n\u001b[0m             ^\u001b[0m\n\u001b[0;31mSyntaxError\u001b[0m\u001b[0;31m:\u001b[0m invalid syntax\n"
          ]
        }
      ]
    }
  ]
}